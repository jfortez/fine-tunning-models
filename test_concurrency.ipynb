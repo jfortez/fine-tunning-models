{
 "cells": [
  {
   "cell_type": "code",
   "execution_count": 10,
   "id": "727cf67a",
   "metadata": {},
   "outputs": [],
   "source": [
    "import asyncio\n",
    "import json\n",
    "from openai import AsyncOpenAI\n",
    "from ollama import AsyncClient\n",
    "from pydantic import BaseModel\n",
    "from typing import Optional\n",
    "import time\n",
    "\n",
    "import os\n",
    "from dotenv import load_dotenv\n",
    "load_dotenv()\n",
    "\n",
    "\n",
    "# Define the structured output model\n",
    "class ResponseModel(BaseModel):\n",
    "    answer: str\n",
    "    confidence: float\n",
    "    source: str\n",
    "\n",
    "# Configuration\n",
    "OPENAI_API_KEY = os.environ.get(\"OPENAI_API_KEY\")  # Replace with your OpenAI API key\n",
    "OLLAMA_HOST = \"https://zk8ufz7qvz0kxi-11434.proxy.runpod.net/\"  # Default Ollama host\n",
    "OLLAMA_MODEL = \"llama3.1:8b\"\n",
    "OPENAI_MODEL = \"gpt-4o-mini\"  # Example OpenAI model\n",
    "\n",
    "# Initialize clients\n",
    "openai_client = AsyncOpenAI(api_key=OPENAI_API_KEY)\n",
    "ollama_client = AsyncClient(host=OLLAMA_HOST)\n",
    "\n",
    "# Prompt for both APIs\n",
    "PROMPT = \"\"\"\n",
    "Given the query: \"What is the capital of France?\", provide a structured response with the following fields:\n",
    "- answer: The capital city.\n",
    "- confidence: A float between 0 and 1 indicating confidence in the answer.\n",
    "- source: The model name or source of the response.\n",
    "\n",
    "Return the response in JSON format.\n",
    "\"\"\"\n",
    "\n",
    "async def call_openai() -> Optional[ResponseModel]:\n",
    "    try:\n",
    "        response = await openai_client.chat.completions.create(\n",
    "            model=OPENAI_MODEL,\n",
    "            messages=[\n",
    "                {\"role\": \"system\", \"content\": \"You are a helpful assistant that returns structured JSON responses.\"},\n",
    "                {\"role\": \"user\", \"content\": PROMPT}\n",
    "            ],\n",
    "            response_format={\"type\": \"json_object\"}\n",
    "        )\n",
    "        content = response.choices[0].message.content\n",
    "        return ResponseModel(**json.loads(content))\n",
    "    except Exception as e:\n",
    "        print(f\"OpenAI error: {e}\")\n",
    "        return None\n",
    "\n",
    "async def call_ollama() -> Optional[ResponseModel]:\n",
    "    try:\n",
    "        response = await ollama_client.chat(\n",
    "            model=OLLAMA_MODEL,\n",
    "            messages=[\n",
    "                {\"role\": \"system\", \"content\": \"Return responses in structured JSON format.\"},\n",
    "                {\"role\": \"user\", \"content\": PROMPT}\n",
    "            ],\n",
    "            options={\"format\": \"json\"}\n",
    "        )\n",
    "        content = response[\"message\"][\"content\"]\n",
    "        return ResponseModel(**json.loads(content))\n",
    "    except Exception as e:\n",
    "        print(f\"Ollama error: {e}\")\n",
    "        return None\n",
    "\n"
   ]
  },
  {
   "cell_type": "code",
   "execution_count": 15,
   "id": "2a361bfa",
   "metadata": {},
   "outputs": [],
   "source": [
    "async def main():\n",
    "    start_time = time.time()\n",
    "    \n",
    "    # Run API calls concurrently\n",
    "    openai_task = call_openai()\n",
    "    ollama_task = call_ollama()\n",
    "    responses = await asyncio.gather(openai_task, ollama_task, return_exceptions=True)\n",
    "    \n",
    "    # Process results\n",
    "    for i, response in enumerate(responses):\n",
    "        if isinstance(response, ResponseModel):\n",
    "            print(f\"Response from {response.source}:\")\n",
    "            print(f\"Answer: {response.answer}, Confidence: {response.confidence}\")\n",
    "        else:\n",
    "            print(f\"Failed to get response from {'OpenAI' if i == 0 else 'Ollama'}\")\n",
    "    \n",
    "    elapsed_time = time.time() - start_time\n",
    "    print(f\"Total execution time: {elapsed_time:.2f} seconds\")\n",
    "\n",
    "\n",
    "\n"
   ]
  },
  {
   "cell_type": "code",
   "execution_count": 18,
   "id": "bf7d9875",
   "metadata": {},
   "outputs": [
    {
     "name": "stdout",
     "output_type": "stream",
     "text": [
      "Response from GPT-3.5:\n",
      "Answer: Paris, Confidence: 1.0\n",
      "Response from Knowledge Graph:\n",
      "Answer: Paris, Confidence: 1.0\n",
      "Total execution time: 1.91 seconds\n"
     ]
    }
   ],
   "source": [
    "await main()"
   ]
  },
  {
   "cell_type": "code",
   "execution_count": null,
   "id": "2c8ae25f",
   "metadata": {},
   "outputs": [],
   "source": []
  }
 ],
 "metadata": {
  "kernelspec": {
   "display_name": ".venv",
   "language": "python",
   "name": "python3"
  },
  "language_info": {
   "codemirror_mode": {
    "name": "ipython",
    "version": 3
   },
   "file_extension": ".py",
   "mimetype": "text/x-python",
   "name": "python",
   "nbconvert_exporter": "python",
   "pygments_lexer": "ipython3",
   "version": "3.13.2"
  }
 },
 "nbformat": 4,
 "nbformat_minor": 5
}
